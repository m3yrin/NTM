{
  "nbformat": 4,
  "nbformat_minor": 0,
  "metadata": {
    "colab": {
      "name": "LDA_jp.ipynb",
      "version": "0.3.2",
      "provenance": [],
      "private_outputs": true,
      "collapsed_sections": [],
      "include_colab_link": true
    },
    "kernelspec": {
      "name": "python3",
      "display_name": "Python 3"
    },
    "accelerator": "GPU"
  },
  "cells": [
    {
      "cell_type": "markdown",
      "metadata": {
        "id": "view-in-github",
        "colab_type": "text"
      },
      "source": [
        "<a href=\"https://colab.research.google.com/github/m3yrin/NTM/blob/master/LDA_jp.ipynb\" target=\"_parent\"><img src=\"https://colab.research.google.com/assets/colab-badge.svg\" alt=\"Open In Colab\"/></a>"
      ]
    },
    {
      "cell_type": "markdown",
      "metadata": {
        "id": "sB8E9rEFHvuA",
        "colab_type": "text"
      },
      "source": [
        "# Gensim LDA model for Japanese articles\n",
        "auther : m3yrin\n",
        "\n",
        "reference : http://tdual.hatenablog.com/entry/2018/04/09/133000\n",
        "\n",
        "### Memo\n",
        "* tdual' s LDA script is massively cited.\n",
        "* janome tokenizer is used instead of Mecab.\n"
      ]
    },
    {
      "cell_type": "code",
      "metadata": {
        "id": "Ff3DsMsPH973",
        "colab_type": "code",
        "colab": {}
      },
      "source": [
        "!pip install janome\n",
        "\n",
        "import os\n",
        "if not os.path.exists('text'):\n",
        "    !wget https://www.rondhuit.com/download/ldcc-20140209.tar.gz\n",
        "    !tar xvzf ldcc-20140209.tar.gz"
      ],
      "execution_count": 0,
      "outputs": []
    },
    {
      "cell_type": "code",
      "metadata": {
        "id": "PV3arU_oHyWS",
        "colab_type": "code",
        "colab": {}
      },
      "source": [
        "from urllib import request \n",
        "import logging\n",
        "from pathlib import Path\n",
        "import numpy as np\n",
        "import re\n",
        "import janome\n",
        "import random\n",
        "from gensim import corpora, models\n",
        "\n",
        "from janome.tokenizer import Tokenizer\n",
        "from janome import analyzer\n",
        "from janome.charfilter import *\n",
        "from janome.tokenfilter import *\n",
        "\n",
        "from tqdm import tqdm_notebook as tqdm"
      ],
      "execution_count": 0,
      "outputs": []
    },
    {
      "cell_type": "code",
      "metadata": {
        "id": "WN90L6unXJqV",
        "colab_type": "code",
        "colab": {}
      },
      "source": [
        "# https://ohke.hateblo.jp/entry/2017/11/02/230000\n",
        "class NumericReplaceFilter(TokenFilter):\n",
        "    def apply(self, tokens):\n",
        "        for token in tokens:\n",
        "            parts = token.part_of_speech.split(',')\n",
        "            if (parts[0] == '名詞' and parts[1] == '数'):\n",
        "                token.surface = '0'\n",
        "                token.base_form = '0'\n",
        "                token.reading = 'ゼロ'\n",
        "                token.phonetic = 'ゼロ'\n",
        "            yield token\n",
        "\n",
        "            \n",
        "class docTokenizer:\n",
        "    def __init__(self, stopwords, parser=None, include_pos=None, exclude_posdetail=None, exclude_reg=None):\n",
        "    \n",
        "        self.stopwords = stopwords\n",
        "        self.include_pos = include_pos if include_pos else  [\"名詞\", \"動詞\", \"形容詞\"]\n",
        "        self.exclude_posdetail = exclude_posdetail if exclude_posdetail else [\"接尾\", \"数\"]\n",
        "        self.exclude_reg = exclude_reg if exclude_reg else r\"$^\"  # no matching reg\n",
        "        \n",
        "        self.char_filters = [\n",
        "                        UnicodeNormalizeCharFilter(), \n",
        "                        RegexReplaceCharFilter(r\"https?://(?:[-\\w.]|(?:%[\\da-fA-F]{2}))+\", u''), #url\n",
        "                        RegexReplaceCharFilter(r\"\\\"?([-a-zA-Z0-9.`?{}]+\\.jp)\\\"?\", u''), #*.jp\n",
        "                        RegexReplaceCharFilter(self.exclude_reg, u'')\n",
        "                       ]\n",
        "        \n",
        "        self.token_filters = [\n",
        "                         NumericReplaceFilter(),\n",
        "                         POSKeepFilter(self.include_pos),\n",
        "                         POSStopFilter(self.exclude_posdetail), \n",
        "                         LowerCaseFilter()\n",
        "                        ]\n",
        "        \n",
        "        self.analyzer = analyzer.Analyzer(self.char_filters, Tokenizer(), self.token_filters)\n",
        "        \n",
        "    def tokenize(self, text):\n",
        "\n",
        "        tokens = self.analyzer.analyze(text)\n",
        "        tokens = [re.sub(r\",\" ,\"\\t\", str(i)) for i in tokens]\n",
        "        l = [line.split(\"\\t\") for line in tokens]\n",
        "        \n",
        "        #Janome response\n",
        "        #i[] : ['認め', '動詞', '自立', '*', '*', '一段', '連用形', '認める', 'ミトメ', 'ミトメ']\n",
        "\n",
        "        res = []\n",
        "        for i in l:\n",
        "            if i[7] not in self.stopwords:\n",
        "                res.append(i[7])\n",
        "                \n",
        "        return res\n",
        "        \n"
      ],
      "execution_count": 0,
      "outputs": []
    },
    {
      "cell_type": "markdown",
      "metadata": {
        "id": "HMR9WlVcNNkN",
        "colab_type": "text"
      },
      "source": [
        "### Hyper-parameters"
      ]
    },
    {
      "cell_type": "code",
      "metadata": {
        "id": "Gihn9x8xM08r",
        "colab_type": "code",
        "colab": {}
      },
      "source": [
        "num_articles = -1\n",
        "topic_num = 20\n",
        "passes = 50"
      ],
      "execution_count": 0,
      "outputs": []
    },
    {
      "cell_type": "markdown",
      "metadata": {
        "id": "S0tGTr_mNUB3",
        "colab_type": "text"
      },
      "source": [
        "### Load stopwords"
      ]
    },
    {
      "cell_type": "code",
      "metadata": {
        "id": "i2fTDltSMBv4",
        "colab_type": "code",
        "colab": {}
      },
      "source": [
        "res = request.urlopen(\"http://svn.sourceforge.jp/svnroot/slothlib/CSharp/Version1/SlothLib/NLP/Filter/StopWord/word/Japanese.txt\")\n",
        "stopwords = [line.decode(\"utf-8\").strip() for line in res]\n",
        "res = request.urlopen(\"http://svn.sourceforge.jp/svnroot/slothlib/CSharp/Version1/SlothLib/NLP/Filter/StopWord/word/English.txt\")\n",
        "stopwords += [line.decode(\"utf-8\").strip() for line in res]\n",
        "\n",
        "stopwords += ['*', '&', '[', ']', ')', '(', '-',':','.','/','0', '...?', '——', '!【', '\"', ')、', ')。', ')」']\n",
        "\n",
        "print(\"# Stopword : \", len(stopwords))"
      ],
      "execution_count": 0,
      "outputs": []
    },
    {
      "cell_type": "markdown",
      "metadata": {
        "id": "MDOwQry_NZQA",
        "colab_type": "text"
      },
      "source": [
        "### Load articles"
      ]
    },
    {
      "cell_type": "code",
      "metadata": {
        "id": "e0TGFDNLXTk_",
        "colab_type": "code",
        "colab": {}
      },
      "source": [
        "doc_path = \"./text/\"\n",
        "doc_dir = Path(doc_path)\n",
        "dirs = [i for i in doc_dir.iterdir() if i.is_dir()]\n",
        "articles = [a for categ in dirs for a in categ.iterdir()]\n",
        "random.shuffle(articles)\n",
        "\n",
        "articles = articles[:num_articles]"
      ],
      "execution_count": 0,
      "outputs": []
    },
    {
      "cell_type": "code",
      "metadata": {
        "id": "sPO_RtIPerWc",
        "colab_type": "code",
        "colab": {}
      },
      "source": [
        "tokenizer = docTokenizer(stopwords = stopwords, exclude_reg=r\"\\d(年|月|日)\")\n",
        "\n",
        "docs = []\n",
        "for a in tqdm(articles):\n",
        "    with a.open() as f:\n",
        "        \n",
        "        # discard first two lines.\n",
        "        f.readline()\n",
        "        f.readline()\n",
        "        docs.append(tokenizer.tokenize(f.read()))"
      ],
      "execution_count": 0,
      "outputs": []
    },
    {
      "cell_type": "markdown",
      "metadata": {
        "id": "C6GpNDwPOjO_",
        "colab_type": "text"
      },
      "source": [
        "### Build dict"
      ]
    },
    {
      "cell_type": "code",
      "metadata": {
        "id": "T0qVrN67-5RH",
        "colab_type": "code",
        "colab": {}
      },
      "source": [
        "# build dict\n",
        "d = corpora.Dictionary(docs)\n",
        "d.filter_extremes(no_below=5, no_above=0.2)\n",
        "d.compactify()\n",
        "\n",
        "# make bow\n",
        "corpus = [d.doc2bow(w) for w in docs]\n",
        "\n",
        "# test train split\n",
        "test_size = int(len(corpus) * 0.1)\n",
        "test_corpus = corpus[:test_size]\n",
        "train_corpus = corpus[test_size:]"
      ],
      "execution_count": 0,
      "outputs": []
    },
    {
      "cell_type": "markdown",
      "metadata": {
        "id": "w79l99--OqHk",
        "colab_type": "text"
      },
      "source": [
        "### Build LDA"
      ]
    },
    {
      "cell_type": "code",
      "metadata": {
        "id": "J2PkzvVa_GCG",
        "colab_type": "code",
        "colab": {}
      },
      "source": [
        "# logging setting\n",
        "logging.basicConfig(format='%(message)s', level=logging.INFO)\n",
        "\n",
        "# build LDA\n",
        "lda = models.LdaModel(corpus=train_corpus, id2word=d,num_topics=topic_num,passes=10, update_every=5)"
      ],
      "execution_count": 0,
      "outputs": []
    },
    {
      "cell_type": "markdown",
      "metadata": {
        "id": "gUBDZv8xO1dt",
        "colab_type": "text"
      },
      "source": [
        "### Results"
      ]
    },
    {
      "cell_type": "code",
      "metadata": {
        "id": "kWB2L_WQOWI4",
        "colab_type": "code",
        "colab": {}
      },
      "source": [
        "N = sum(count for doc in train_corpus for id, count in doc)\n",
        "print(\"# of words in train corpas: \",N)\n",
        "perplexity = np.exp2(-lda.log_perplexity(train_corpus))\n",
        "print(\"perplexity(train):\", perplexity)\n",
        "\n",
        "print(\"==============================\")\n",
        "N = sum(count for doc in test_corpus for id, count in doc)\n",
        "print(\"# of words in test corpas: \",N)\n",
        "perplexity = np.exp2(-lda.log_perplexity(test_corpus))\n",
        "print(\"perplexity(test):\", perplexity)"
      ],
      "execution_count": 0,
      "outputs": []
    },
    {
      "cell_type": "code",
      "metadata": {
        "id": "NqGs1fKK_rgq",
        "colab_type": "code",
        "colab": {}
      },
      "source": [
        "def get_topic_words(topic_id):\n",
        "    tw = []\n",
        "    for t in lda.get_topic_terms(topic_id):\n",
        "        tw.append(d[t[0]])\n",
        "    \n",
        "    return tw\n",
        "\n",
        "for t in range(topic_num):\n",
        "    tw = get_topic_words(t)\n",
        "    print('Topic {}: {}'.format(t + 1, ' '.join(tw)))"
      ],
      "execution_count": 0,
      "outputs": []
    }
  ]
}